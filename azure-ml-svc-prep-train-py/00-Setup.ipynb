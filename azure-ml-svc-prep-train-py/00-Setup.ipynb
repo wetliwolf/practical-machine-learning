{
 "cells": [
  {
   "cell_type": "code",
   "execution_count": null,
   "metadata": {},
   "outputs": [],
   "source": [
    "from azureml.core import Workspace\n",
    "import os\n",
    "\n",
    "subscription_id = \"<subsciption-id>\"\n",
    "resource_group = \"mlops-youtube\"\n",
    "workspace_name = \"mlops-youtube-mlwrksp\"\n",
    "workspace_region = \"westeurope\"\n",
    "\n",
    "try:\n",
    "    ws = Workspace(subscription_id = subscription_id, \n",
    "                   resource_group = resource_group, \n",
    "                   workspace_name = workspace_name)\n",
    "    ws.write_config()\n",
    "    print('Library configuration succeeded')\n",
    "except:\n",
    "    ws = Workspace.create(name = workspace_name,\n",
    "                      subscription_id = subscription_id,\n",
    "                      resource_group = resource_group, \n",
    "                      location = workspace_region,\n",
    "                      create_resource_group = True,\n",
    "                      exist_ok = True)\n",
    "    ws.get_details()\n",
    "    ws.write_config()\n",
    "    print('Library configuration succeeded')"
   ]
  },
  {
   "cell_type": "code",
   "execution_count": null,
   "metadata": {},
   "outputs": [],
   "source": []
  }
 ],
 "metadata": {
  "kernelspec": {
   "display_name": "Python 3",
   "language": "python",
   "name": "python3"
  },
  "language_info": {
   "codemirror_mode": {
    "name": "ipython",
    "version": 3
   },
   "file_extension": ".py",
   "mimetype": "text/x-python",
   "name": "python",
   "nbconvert_exporter": "python",
   "pygments_lexer": "ipython3",
   "version": "3.5.2"
  }
 },
 "nbformat": 4,
 "nbformat_minor": 2
}
